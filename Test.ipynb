{
 "cells": [
  {
   "cell_type": "markdown",
   "id": "4b8011dc",
   "metadata": {},
   "source": [
    "# Sound source localization with a microphones array : beamforming approaches# Advanced Audio Processing, part 1: Acoustics and Sound Localization"
   ]
  },
  {
   "cell_type": "markdown",
   "id": "4a0e7484",
   "metadata": {},
   "source": []
  },
  {
   "cell_type": "markdown",
   "id": "bcd297b6",
   "metadata": {},
   "source": [
    "This is a test Notebook to check if your local installation is working correctly"
   ]
  },
  {
   "cell_type": "code",
   "execution_count": 2,
   "id": "dca40716",
   "metadata": {},
   "outputs": [],
   "source": [
    "# All required import\n",
    "import matplotlib.pyplot as plt\n",
    "import ipywidgets as widgets\n",
    "import numpy as np\n",
    "from client import array\n",
    "import time\n",
    "%matplotlib notebook"
   ]
  },
  {
   "cell_type": "code",
   "execution_count": 3,
   "id": "3a07bd41",
   "metadata": {
    "scrolled": false
   },
   "outputs": [
    {
     "data": {
      "application/vnd.jupyter.widget-view+json": {
       "model_id": "d06b3890b2684bc5868ac268e43d6ba4",
       "version_major": 2,
       "version_minor": 0
      },
      "text/plain": [
       "VBox(children=(HBox(children=(FileChooser(path='C:\\Users\\Brani\\OneDrive\\Bureau\\TP_audio', filename='', title='…"
      ]
     },
     "metadata": {},
     "output_type": "display_data"
    }
   ],
   "source": [
    "# antenne=array('server')   # When performing real-time acquisition (acquisition system is required)\n",
    "antenne=array('play')     # When playing recorded files (can work without acquisition system)"
   ]
  },
  {
   "cell_type": "code",
   "execution_count": 4,
   "id": "39867a9d",
   "metadata": {
    "scrolled": true
   },
   "outputs": [
    {
     "ename": "AttributeError",
     "evalue": "'array' object has no attribute 'fs'",
     "output_type": "error",
     "traceback": [
      "\u001b[1;31m---------------------------------------------------------------------------\u001b[0m",
      "\u001b[1;31mAttributeError\u001b[0m                            Traceback (most recent call last)",
      "Cell \u001b[1;32mIn [4], line 2\u001b[0m\n\u001b[0;32m      1\u001b[0m \u001b[39m# Load acquisition and array parameters from the antenne variable, AFTER launching acquisition or play\u001b[39;00m\n\u001b[1;32m----> 2\u001b[0m Fs \u001b[39m=\u001b[39m antenne\u001b[39m.\u001b[39;49mfs\n\u001b[0;32m      3\u001b[0m BLK \u001b[39m=\u001b[39m antenne\u001b[39m.\u001b[39mblocksize\n\u001b[0;32m      4\u001b[0m N \u001b[39m=\u001b[39m antenne\u001b[39m.\u001b[39mmems_nb\n",
      "\u001b[1;31mAttributeError\u001b[0m: 'array' object has no attribute 'fs'"
     ]
    }
   ],
   "source": [
    "# Load acquisition and array parameters from the antenne variable, AFTER launching acquisition or play\n",
    "Fs = antenne.fs\n",
    "BLK = antenne.blocksize\n",
    "N = antenne.mems_nb\n",
    "d = antenne.interspace"
   ]
  },
  {
   "cell_type": "code",
   "execution_count": 12,
   "id": "cedd489e",
   "metadata": {},
   "outputs": [
    {
     "ename": "AttributeError",
     "evalue": "'array' object has no attribute 'mu32'",
     "output_type": "error",
     "traceback": [
      "\u001b[1;31m---------------------------------------------------------------------------\u001b[0m",
      "\u001b[1;31mAttributeError\u001b[0m                            Traceback (most recent call last)",
      "Cell \u001b[1;32mIn [12], line 2\u001b[0m\n\u001b[0;32m      1\u001b[0m \u001b[39m# Read an audio buffer\u001b[39;00m\n\u001b[1;32m----> 2\u001b[0m m \u001b[39m=\u001b[39m antenne\u001b[39m.\u001b[39;49mread()\n",
      "File \u001b[1;32mc:\\Users\\Brani\\OneDrive\\Bureau\\TP_audio\\client.py:440\u001b[0m, in \u001b[0;36marray.read\u001b[1;34m(self)\u001b[0m\n\u001b[0;32m    431\u001b[0m \u001b[39m\"\"\"Read current audio buffer. The buffer is also available in the .m attribute of the \u001b[39;00m\n\u001b[0;32m    432\u001b[0m \u001b[39m   array object.\u001b[39;00m\n\u001b[0;32m    433\u001b[0m \n\u001b[0;32m    434\u001b[0m \u001b[39mReturns:\u001b[39;00m\n\u001b[0;32m    435\u001b[0m \u001b[39m    np.array: current audio buffer of size nb_mic x blocksize\u001b[39;00m\n\u001b[0;32m    436\u001b[0m \u001b[39m\"\"\"\u001b[39;00m\n\u001b[0;32m    437\u001b[0m \u001b[39mtry\u001b[39;00m:\n\u001b[0;32m    438\u001b[0m     \u001b[39m# Read last buffer\u001b[39;00m\n\u001b[0;32m    439\u001b[0m     \u001b[39m#self.m = self.mu32.signal_q.get(block=True, timeout=2) * self.mu32.sensibility\u001b[39;00m\n\u001b[1;32m--> 440\u001b[0m     \u001b[39mself\u001b[39m\u001b[39m.\u001b[39mm \u001b[39m=\u001b[39m \u001b[39mself\u001b[39;49m\u001b[39m.\u001b[39;49mmu32\u001b[39m.\u001b[39msignal_q\u001b[39m.\u001b[39mget_nowait() \u001b[39m*\u001b[39m \u001b[39mself\u001b[39m\u001b[39m.\u001b[39mmu32\u001b[39m.\u001b[39msensibility\n\u001b[0;32m    441\u001b[0m     \u001b[39m# Return array\u001b[39;00m\n\u001b[0;32m    442\u001b[0m     \u001b[39mreturn\u001b[39;00m \u001b[39mself\u001b[39m\u001b[39m.\u001b[39mm\n",
      "\u001b[1;31mAttributeError\u001b[0m: 'array' object has no attribute 'mu32'"
     ]
    }
   ],
   "source": [
    "# Read an audio buffer\n",
    "m = antenne.read()"
   ]
  },
  {
   "cell_type": "code",
   "execution_count": null,
   "id": "d659af2b",
   "metadata": {},
   "outputs": [],
   "source": []
  }
 ],
 "metadata": {
  "kernelspec": {
   "display_name": "Python 3.10.4 ('env_ML')",
   "language": "python",
   "name": "python3"
  },
  "language_info": {
   "codemirror_mode": {
    "name": "ipython",
    "version": 3
   },
   "file_extension": ".py",
   "mimetype": "text/x-python",
   "name": "python",
   "nbconvert_exporter": "python",
   "pygments_lexer": "ipython3",
   "version": "3.10.4"
  },
  "varInspector": {
   "cols": {
    "lenName": 16,
    "lenType": 16,
    "lenVar": 40
   },
   "kernels_config": {
    "python": {
     "delete_cmd_postfix": "",
     "delete_cmd_prefix": "del ",
     "library": "var_list.py",
     "varRefreshCmd": "print(var_dic_list())"
    },
    "r": {
     "delete_cmd_postfix": ") ",
     "delete_cmd_prefix": "rm(",
     "library": "var_list.r",
     "varRefreshCmd": "cat(var_dic_list()) "
    }
   },
   "position": {
    "height": "360.85px",
    "left": "1755px",
    "right": "20px",
    "top": "120px",
    "width": "333px"
   },
   "types_to_exclude": [
    "module",
    "function",
    "builtin_function_or_method",
    "instance",
    "_Feature"
   ],
   "window_display": true
  },
  "vscode": {
   "interpreter": {
    "hash": "3aeec228df1f54caf4e0351da5a2d0a118f716cc91cd17ac0ce0027b95db8302"
   }
  }
 },
 "nbformat": 4,
 "nbformat_minor": 5
}
